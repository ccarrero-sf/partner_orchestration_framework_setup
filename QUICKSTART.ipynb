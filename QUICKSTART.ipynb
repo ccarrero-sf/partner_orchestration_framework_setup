{
 "metadata": {
  "kernelspec": {
   "display_name": ".venv",
   "language": "python",
   "name": "python3"
  },
  "language_info": {
   "codemirror_mode": {
    "name": "ipython",
    "version": 3
   },
   "file_extension": ".py",
   "mimetype": "text/x-python",
   "name": "python",
   "nbconvert_exporter": "python",
   "pygments_lexer": "ipython3",
   "version": "3.11.6"
  },
  "lastEditStatus": {
   "notebookId": "pvsvbevi7kexdjlxdrml",
   "authorId": "5744486210470",
   "authorName": "CCARRERO",
   "authorEmail": "carlos.carrero@snowflake.com",
   "sessionId": "6d2eea41-599e-47a8-9656-14cb25a98750",
   "lastEditTime": 1742574421200
  }
 },
 "nbformat_minor": 2,
 "nbformat": 4,
 "cells": [
  {
   "cell_type": "markdown",
   "metadata": {
    "name": "cell1"
   },
   "source": [
    "# Agent Gateway Quickstart"
   ],
   "id": "ce110000-1111-2222-3333-ffffff000000"
  },
  {
   "cell_type": "markdown",
   "metadata": {
    "name": "cell2"
   },
   "source": [
    "Agent Gateway is a multi-agent framework that offers native support for Snowflake tools. \n",
    "\n",
    "The system can be configured to work with 3 types of tools:\n",
    "- Cortex Search Tool: For unstructured data analysis, which requires a standard RAG access pattern.\n",
    "- Cortex Analyst Tool: For supporting structured data analysis, which requires a Text2SQL access pattern.\n",
    "- Python Tool: For supporting custom user operations (using 3rd Party API's), which requires calling arbitrary python.\n",
    "\n",
    "This notebook walks through how to configure and run a system with all 3 types of tools. The demo is designed to illustrate how the agent can answer questions that require a divserse combination of tools (RAG,Text2SQL, Python, or a combination).\n",
    "\n",
    "Note that Agent Gateway does not configure the underlying Cortex Search or Cortex Analyst services for the user. Those services must be configured before initializing the agent."
   ],
   "id": "ce110000-1111-2222-3333-ffffff000001"
  },
  {
   "cell_type": "markdown",
   "metadata": {
    "name": "cell3"
   },
   "source": [
    "# Agent Configuration"
   ],
   "id": "ce110000-1111-2222-3333-ffffff000002"
  },
  {
   "cell_type": "markdown",
   "metadata": {
    "name": "cell4"
   },
   "source": [
    "## Connection Setup"
   ],
   "id": "ce110000-1111-2222-3333-ffffff000003"
  },
  {
   "cell_type": "markdown",
   "metadata": {
    "name": "cell5"
   },
   "source": [
    "Authenticate with Snowpark + set token as environment variable for use by the agents."
   ],
   "id": "ce110000-1111-2222-3333-ffffff000004"
  },
  {
   "cell_type": "code",
   "id": "92e2f2a4-7d8a-4f93-8446-f4202ecd3209",
   "metadata": {
    "language": "python",
    "name": "cell28",
    "codeCollapsed": false
   },
   "outputs": [],
   "source": "import os\n#os.environ[\"LOGGING_LEVEL\"] = \"DEBUG\"",
   "execution_count": null
  },
  {
   "cell_type": "code",
   "execution_count": 1,
   "metadata": {
    "name": "cell6",
    "language": "python"
   },
   "outputs": [],
   "source": "from agent_gateway import Agent\nfrom agent_gateway.tools import CortexSearchTool, CortexAnalystTool, PythonTool\nfrom snowflake.snowpark import Session\nimport os\nimport streamlit as st\n\n\nfrom snowflake.snowpark.context import get_active_session\n\nsnowpark = get_active_session()",
   "id": "ce110000-1111-2222-3333-ffffff000005"
  },
  {
   "cell_type": "code",
   "id": "14183e84-f454-48f8-8634-1965681b5bc7",
   "metadata": {
    "language": "python",
    "name": "cell26"
   },
   "outputs": [],
   "source": "from agent_gateway.tools.utils import generate_demo_services\n\ngenerate_demo_services(snowpark)\n",
   "execution_count": null
  },
  {
   "cell_type": "markdown",
   "metadata": {
    "name": "cell7"
   },
   "source": [
    "## Snowflake Tool Configuration"
   ],
   "id": "ce110000-1111-2222-3333-ffffff000006"
  },
  {
   "cell_type": "markdown",
   "metadata": {
    "name": "cell8",
    "collapsed": false
   },
   "source": [
    "The Cortex Search Tool and the Cortex Analyst Tool need to be configured as follows. Note that a connection object is required for each config. In the case below we're using the same connection object for both because the services are both in the same account/database/schema. Users have the option to pass in different connection objects as needed."
   ],
   "id": "ce110000-1111-2222-3333-ffffff000007"
  },
  {
   "cell_type": "code",
   "id": "0733ff1d-0077-4596-a045-772b591a1939",
   "metadata": {
    "language": "sql",
    "name": "cell27"
   },
   "outputs": [],
   "source": "use database CUBE_TESTING;\nuse schema PUBLIC;",
   "execution_count": null
  },
  {
   "cell_type": "code",
   "execution_count": 2,
   "metadata": {
    "name": "cell9",
    "language": "python"
   },
   "outputs": [],
   "source": "\nsearch_config = {\n    \"service_name\": \"CUBE_TESTING.PUBLIC.SEC_SEARCH_SERVICE\",\n    \"service_topic\": \"Snowflake's business,product offerings,and performance.\",\n    \"data_description\": \"Snowflake annual reports\",\n    \"retrieval_columns\": [\"CHUNK\", \"RELATIVE_PATH\"],\n    \"snowflake_connection\": snowpark,\n    \"k\": 10,\n}\n\nanalyst_config = {\n    \"semantic_model\": \"sp500_semantic_model.yaml\",\n    \"stage\": \"CUBE_TESTING.PUBLIC.ANALYST\",\n    \"service_topic\": \"S&P500 company and stock metrics\",\n    \"data_description\": \"a table with stock and financial metrics about S&P500 companies \",\n    \"snowflake_connection\": snowpark,\n}",
   "id": "ce110000-1111-2222-3333-ffffff000008"
  },
  {
   "cell_type": "markdown",
   "metadata": {
    "name": "cell10"
   },
   "source": [
    "## Python Tool Configuration"
   ],
   "id": "ce110000-1111-2222-3333-ffffff000009"
  },
  {
   "cell_type": "markdown",
   "metadata": {
    "name": "cell11"
   },
   "source": [
    "Configuring a Python Tool for the Agent Gateway requires 1) Python Callable 2) Tool Description (what does the tool do) 3) Output Description (what does the tool output). \n",
    "\n",
    "In the example below we create a NewsTool object that submits a HTTP request to a 3rd Party News API. The python callable is passed into the Python Tool as `news_api_func`.To use the tool below get your free token by signing up for an account at thenewsapi.com or just create your own python function and pass it into the PythonTool."
   ],
   "id": "ce110000-1111-2222-3333-ffffff000010"
  },
  {
   "cell_type": "code",
   "execution_count": 3,
   "metadata": {
    "name": "cell12",
    "language": "python"
   },
   "outputs": [],
   "source": [
    "import requests\n",
    "\n",
    "\n",
    "def html_crawl(url):\n",
    "    response = requests.get(url)\n",
    "    return response.text\n",
    "\n",
    "\n",
    "python_crawler_config = {\n",
    "    \"tool_description\": \"reads the html from a given URL or website\",\n",
    "    \"output_description\": \"html of a webpage\",\n",
    "    \"python_func\": html_crawl,\n",
    "}"
   ],
   "id": "ce110000-1111-2222-3333-ffffff000011"
  },
  {
   "cell_type": "markdown",
   "metadata": {
    "name": "cell13"
   },
   "source": [
    "## Agent Config"
   ],
   "id": "ce110000-1111-2222-3333-ffffff000012"
  },
  {
   "cell_type": "markdown",
   "metadata": {
    "name": "cell14"
   },
   "source": [
    "After the tools have been configured, initialize them and configure the agent."
   ],
   "id": "ce110000-1111-2222-3333-ffffff000013"
  },
  {
   "cell_type": "code",
   "execution_count": 4,
   "metadata": {
    "name": "cell15",
    "language": "python"
   },
   "outputs": [
    {
     "name": "stdout",
     "output_type": "stream",
     "text": [
      "2025-03-13 17:24:15,091 - AgentGatewayLogger - INFO - Cortex Search Tool successfully initialized\n",
      "2025-03-13 17:24:15,092 - AgentGatewayLogger - INFO - Cortex Analyst Tool successfully initialized\n",
      "2025-03-13 17:24:15,093 - AgentGatewayLogger - INFO - Python Tool successfully initialized\n",
      "2025-03-13 17:24:15,094 - AgentGatewayLogger - INFO - Cortex gateway successfully initialized\n"
     ]
    }
   ],
   "source": [
    "annual_reports = CortexSearchTool(**search_config)\n",
    "sp500 = CortexAnalystTool(**analyst_config)\n",
    "web_crawler = PythonTool(**python_crawler_config)\n",
    "\n",
    "snowflake_tools = [annual_reports, sp500, web_crawler]\n",
    "agent = Agent(snowflake_connection=snowpark, tools=snowflake_tools, max_retries=3)"
   ],
   "id": "ce110000-1111-2222-3333-ffffff000014"
  },
  {
   "cell_type": "markdown",
   "metadata": {
    "name": "cell16"
   },
   "source": [
    "# Agent Testing"
   ],
   "id": "ce110000-1111-2222-3333-ffffff000015"
  },
  {
   "cell_type": "markdown",
   "metadata": {
    "name": "cell17"
   },
   "source": [
    "The 3 types of questions below are designed to showcase the breadth of tool use patterns possible with the Agent Gateway. \n",
    "\n",
    "- The Structured Data Questions use the Cortex Analyst agent. \n",
    "- The Unstructured Data Questions use either the Cortex Search agent or the Python (News API) agent.\n",
    "- The last section includes a question that requires the use of both types of tools."
   ],
   "id": "ce110000-1111-2222-3333-ffffff000016"
  },
  {
   "cell_type": "markdown",
   "metadata": {
    "name": "cell18"
   },
   "source": [
    "## Structured Data Questions"
   ],
   "id": "ce110000-1111-2222-3333-ffffff000017"
  },
  {
   "cell_type": "code",
   "execution_count": 5,
   "metadata": {
    "name": "cell19",
    "language": "python"
   },
   "outputs": [
    {
     "name": "stdout",
     "output_type": "stream",
     "text": [
      "2025-03-13 17:24:22,280 - AgentGatewayLogger - INFO - running sp500_semantic_model_cortexanalyst task\n"
     ]
    },
    {
     "data": {
      "text/plain": [
       "{'output': 'The market cap of Apple is $3,019,131,060,224 or approximately $3.02 trillion.',\n",
       " 'sources': [{'tool_type': 'cortex_analyst',\n",
       "   'tool_name': 'sp500_semantic_model_cortexanalyst',\n",
       "   'metadata': [{'Table': 'cube_testing.public.sp500'}]}]}"
      ]
     },
     "execution_count": 5,
     "metadata": {},
     "output_type": "execute_result"
    }
   ],
   "source": "response = agent(\"What is the market cap of Apple?\")",
   "id": "ce110000-1111-2222-3333-ffffff000018"
  },
  {
   "cell_type": "code",
   "id": "3da0a6dc-950c-4d8a-89f4-1118d2cc7bc9",
   "metadata": {
    "language": "python",
    "name": "cell31",
    "collapsed": false,
    "codeCollapsed": false
   },
   "outputs": [],
   "source": "st.text(response)",
   "execution_count": null
  },
  {
   "cell_type": "code",
   "execution_count": 6,
   "metadata": {
    "name": "cell20",
    "language": "python"
   },
   "outputs": [
    {
     "name": "stdout",
     "output_type": "stream",
     "text": [
      "2025-03-13 17:24:33,011 - AgentGatewayLogger - INFO - running sp500_semantic_model_cortexanalyst task\n",
      "2025-03-13 17:24:33,012 - AgentGatewayLogger - INFO - running sp500_semantic_model_cortexanalyst task\n"
     ]
    },
    {
     "data": {
      "text/plain": [
       "{'output': \"Apple has a bigger EBITDA of $129,629,003,776 compared to Microsoft's $125,981,999,104.\",\n",
       " 'sources': [{'tool_type': 'cortex_analyst',\n",
       "   'tool_name': 'sp500_semantic_model_cortexanalyst',\n",
       "   'metadata': [{'Table': 'cube_testing.public.sp500'}]}]}"
      ]
     },
     "execution_count": 6,
     "metadata": {},
     "output_type": "execute_result"
    }
   ],
   "source": [
    "agent(\"Which company has the bigger EBITDA, Apple or MSFT?\")"
   ],
   "id": "ce110000-1111-2222-3333-ffffff000019"
  },
  {
   "cell_type": "markdown",
   "metadata": {
    "name": "cell21"
   },
   "source": [
    "# Unstructured Data Questions"
   ],
   "id": "ce110000-1111-2222-3333-ffffff000020"
  },
  {
   "cell_type": "code",
   "execution_count": 7,
   "metadata": {
    "name": "cell22",
    "language": "python"
   },
   "outputs": [
    {
     "name": "stdout",
     "output_type": "stream",
     "text": [
      "2025-03-13 17:24:49,879 - AgentGatewayLogger - INFO - running sec_search_service_cortexsearch task\n"
     ]
    },
    {
     "data": {
      "text/plain": [
       "{'output': 'As of January 31, 2024, Snowflake had 9,437 total customers.',\n",
       " 'sources': [{'tool_type': 'cortex_search',\n",
       "   'tool_name': 'sec_search_service_cortexsearch',\n",
       "   'metadata': [{'RELATIVE_PATH': '2024_10k_snowflake.pdf'},\n",
       "    {'RELATIVE_PATH': '2023_10k_snowflake.pdf'},\n",
       "    {'RELATIVE_PATH': '2022_10k_snowflake.pdf'},\n",
       "    {'RELATIVE_PATH': '2021_10k_snowflake.pdf'}]}]}"
      ]
     },
     "execution_count": 7,
     "metadata": {},
     "output_type": "execute_result"
    }
   ],
   "source": [
    "agent(\"How many customers does Snowflake have?\")"
   ],
   "id": "ce110000-1111-2222-3333-ffffff000021"
  },
  {
   "cell_type": "code",
   "execution_count": 8,
   "metadata": {
    "name": "cell23",
    "language": "python"
   },
   "outputs": [
    {
     "name": "stdout",
     "output_type": "stream",
     "text": [
      "2025-03-13 17:24:57,337 - AgentGatewayLogger - INFO - running html_crawl task\n"
     ]
    },
    {
     "data": {
      "text/plain": [
       "{'output': 'Snowflake can be hosted on the following cloud platforms: Amazon Web Services (AWS), Google Cloud Platform (GCP), and Microsoft Azure (Azure).',\n",
       " 'sources': [{'tool_type': 'custom_tool',\n",
       "   'tool_name': 'html_crawl',\n",
       "   'metadata': [None]}]}"
      ]
     },
     "execution_count": 8,
     "metadata": {},
     "output_type": "execute_result"
    }
   ],
   "source": [
    "agent(\n",
    "    \"On which platforms can I host Snowflake according to this documentation page https://docs.snowflake.com/en/user-guide/intro-cloud-platforms\"\n",
    ")"
   ],
   "id": "ce110000-1111-2222-3333-ffffff000022"
  },
  {
   "cell_type": "markdown",
   "metadata": {
    "name": "cell24"
   },
   "source": [
    "## Unstructured + Structured Data Questions"
   ],
   "id": "ce110000-1111-2222-3333-ffffff000023"
  },
  {
   "cell_type": "code",
   "id": "69434cd7-f324-46c2-8448-c12195376409",
   "metadata": {
    "language": "python",
    "name": "cell30"
   },
   "outputs": [],
   "source": "agent(\n    \"What is the market cap of each of the cloud providers mentioned in Snowflake's annual report?\"\n)",
   "execution_count": null
  },
  {
   "cell_type": "code",
   "execution_count": 9,
   "metadata": {
    "name": "cell25",
    "language": "python"
   },
   "outputs": [
    {
     "name": "stdout",
     "output_type": "stream",
     "text": [
      "2025-03-13 17:25:14,329 - AgentGatewayLogger - INFO - running sec_search_service_cortexsearch task\n",
      "2025-03-13 17:25:15,815 - AgentGatewayLogger - INFO - running summarize task\n",
      "2025-03-13 17:25:17,261 - AgentGatewayLogger - INFO - running sp500_semantic_model_cortexanalyst task\n",
      "2025-03-13 17:25:21,736 - AgentGatewayLogger - ERROR - Your request is unclear. Consider rephrasing your request to one of the following suggestions: ['What is the market cap of Amazon.com, Inc., Microsoft Corporation, and Alphabet Inc.?', 'What is the market cap of the companies that own Amazon Web Services (AWS), Microsoft Azure, and Google Cloud Platform (GCP)?']\n",
      "2025-03-13 17:25:30,092 - AgentGatewayLogger - INFO - running sp500_semantic_model_cortexanalyst task\n",
      "2025-03-13 17:25:33,332 - AgentGatewayLogger - ERROR - Unable to generate a valid SQL Query. The question is asking for the market cap of companies that own Amazon Web Services (AWS), but the semantic data model does not provide information about the ownership of AWS or any other subsidiary relationships. Therefore, it is unclear how to determine which companies own AWS based on the given schema.\n",
      "2025-03-13 17:25:41,677 - AgentGatewayLogger - INFO - running sp500_semantic_model_cortexanalyst task\n"
     ]
    },
    {
     "data": {
      "text/plain": [
       "{'output': 'The market cap of Amazon.com, Inc. is $1,917,936,336,896, the market cap of Microsoft Corporation is $3,150,184,448,000, and the market cap of Alphabet Inc. is $2,164,350,779,392.',\n",
       " 'sources': [{'tool_type': 'cortex_search',\n",
       "   'tool_name': 'sec_search_service_cortexsearch',\n",
       "   'metadata': [{'RELATIVE_PATH': '2023_10k_snowflake.pdf'},\n",
       "    {'RELATIVE_PATH': '2024_10k_snowflake.pdf'},\n",
       "    {'RELATIVE_PATH': '2022_10k_snowflake.pdf'},\n",
       "    {'RELATIVE_PATH': '2021_10k_snowflake.pdf'}]},\n",
       "  {'tool_type': 'cortex_analyst',\n",
       "   'tool_name': 'sp500_semantic_model_cortexanalyst',\n",
       "   'metadata': [{'Table': 'cube_testing.public.sp500'}]}]}"
      ]
     },
     "execution_count": 9,
     "metadata": {},
     "output_type": "execute_result"
    }
   ],
   "source": "resposne = agent(\n    \"What is the market cap of each of the cloud providers mentioned in Snowflake's annual report?\"\n)",
   "id": "ce110000-1111-2222-3333-ffffff000024"
  },
  {
   "cell_type": "code",
   "id": "ecad5159-d254-409d-b7f9-ea5bebad9b52",
   "metadata": {
    "language": "python",
    "name": "cell29"
   },
   "outputs": [],
   "source": "import streamlit as st\n\nst.markdown(resposne)",
   "execution_count": null
  }
 ]
}